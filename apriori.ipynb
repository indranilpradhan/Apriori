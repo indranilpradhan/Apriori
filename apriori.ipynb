{
  "nbformat": 4,
  "nbformat_minor": 0,
  "metadata": {
    "colab": {
      "name": "apriori.ipynb",
      "provenance": [],
      "collapsed_sections": []
    },
    "kernelspec": {
      "name": "python3",
      "display_name": "Python 3"
    }
  },
  "cells": [
    {
      "cell_type": "code",
      "metadata": {
        "id": "M6kKE09xDCl9"
      },
      "source": [
        "import csv\n",
        "import json\n",
        "from itertools import combinations"
      ],
      "execution_count": null,
      "outputs": []
    },
    {
      "cell_type": "code",
      "metadata": {
        "id": "hVvT6b5mLxIU"
      },
      "source": [
        "min_sup = 200"
      ],
      "execution_count": null,
      "outputs": []
    },
    {
      "cell_type": "code",
      "metadata": {
        "id": "OL5DDwteNjqL"
      },
      "source": [
        "D = {}\n",
        "sot = {}\n",
        "with open('/content/data/sign.txt', 'r') as f:\n",
        "    reader = csv.reader(f)\n",
        "    index = 0\n",
        "    for row in reader:\n",
        "        temp = [i.strip() for i in row[0].split('-1')]\n",
        "        if temp[-1] != '-2':\n",
        "          print('wrong')\n",
        "        temp.pop()\n",
        "        sot[str(index)] = len(temp)\n",
        "        D[str(index)] = temp\n",
        "        index += 1"
      ],
      "execution_count": null,
      "outputs": []
    },
    {
      "cell_type": "markdown",
      "metadata": {
        "id": "9f1PvzYMMf2Q"
      },
      "source": [
        "##Transaction Reduction"
      ]
    },
    {
      "cell_type": "code",
      "metadata": {
        "id": "TETrL-4aLCpm"
      },
      "source": [
        "L = []\n",
        "C = {}\n",
        "total_count = 0\n",
        "total_ele = 0\n",
        "for key,value in D.items():\n",
        "  for j in value:\n",
        "    count = 0\n",
        "    for key1,value1 in D.items():\n",
        "      if j in value1:\n",
        "        count = count+1\n",
        "    temp = [j]\n",
        "    C[json.dumps(temp)] = count"
      ],
      "execution_count": null,
      "outputs": []
    },
    {
      "cell_type": "code",
      "metadata": {
        "id": "GhCFOplcNYw3"
      },
      "source": [
        "for k,v in C.items():\n",
        "  if C[k] >= min_sup:\n",
        "    L.append(json.loads(k))"
      ],
      "execution_count": null,
      "outputs": []
    },
    {
      "cell_type": "code",
      "metadata": {
        "id": "Askp2y7IOX9M"
      },
      "source": [
        "k = 2\n",
        "while True:\n",
        "  if len(L) == 0:\n",
        "    break\n",
        "  for i,j in sot.items():\n",
        "    if sot[i] <= k-1:\n",
        "      del D[i]\n",
        "  freq = []\n",
        "  in_freq = []\n",
        "  for i,j in C.items():\n",
        "    lst = json.loads(i)\n",
        "    if lst in L:\n",
        "      for ele in lst:\n",
        "        freq.append(ele)\n",
        "    else:\n",
        "      for ele in lst:\n",
        "        in_freq.append(ele)\n",
        "\n",
        "  diff_list = list(list(set(in_freq)-set(freq)))\n",
        "  for ele in diff_list:\n",
        "    for key,value in D.items():\n",
        "      if ele in value:\n",
        "        value.remove(ele)\n",
        "\n",
        "  sot = {}\n",
        "  for key,value in D.items():\n",
        "    sot[key] = len(value)\n",
        "  temp_L = []\n",
        "  for i in range(len(L)):\n",
        "    for j in range(i+1,len(L)):\n",
        "      mismatch = 0\n",
        "      for index in range(k-1):\n",
        "        if k-1 > 0 and L[i][index] != L[j][index]:\n",
        "          mismatch += 1\n",
        "      if mismatch <= 1:\n",
        "        u_list = list(set().union(L[i],L[j]))\n",
        "        comb = list(combinations(u_list,k-1))\n",
        "        flag = 0\n",
        "        for element in comb:\n",
        "          t_ele = list(element)\n",
        "          if t_ele not in L:\n",
        "            flag = 1\n",
        "            break\n",
        "        if flag == 0:\n",
        "          temp_L.append(u_list)\n",
        "\n",
        "  C_old = C.copy()\n",
        "  L_old = L.copy()\n",
        "  C= {}\n",
        "  L = []\n",
        "  for i in temp_L:\n",
        "    count = 0\n",
        "    for key,value in D.items():\n",
        "      if (set(i).issubset(set(value))):\n",
        "        count += 1\n",
        "    C[json.dumps(i)] = count\n",
        "  \n",
        "  for key,value in C.items():\n",
        "    if C[key] >= min_sup:\n",
        "      L.append(json.loads(key))\n",
        "  k += 1"
      ],
      "execution_count": null,
      "outputs": []
    },
    {
      "cell_type": "code",
      "metadata": {
        "id": "tibQlUdTcJWs",
        "outputId": "daad05a3-5bf5-42b0-e104-e8adf3329a3f",
        "colab": {
          "base_uri": "https://localhost:8080/",
          "height": 136
        }
      },
      "source": [
        "L_old"
      ],
      "execution_count": null,
      "outputs": [
        {
          "output_type": "execute_result",
          "data": {
            "text/plain": [
              "[['110', '35', '139', '8', '9'],\n",
              " ['110', '35', '139', '8', '17'],\n",
              " ['110', '35', '139', '8', '117'],\n",
              " ['110', '35', '8', '117', '10'],\n",
              " ['35', '28', '17', '9', '10'],\n",
              " ['1', '253', '29', '26', '143'],\n",
              " ['110', '35', '139', '26', '143']]"
            ]
          },
          "metadata": {
            "tags": []
          },
          "execution_count": 108
        }
      ]
    },
    {
      "cell_type": "code",
      "metadata": {
        "id": "QwM01q6Zl_wT"
      },
      "source": [
        ""
      ],
      "execution_count": null,
      "outputs": []
    },
    {
      "cell_type": "markdown",
      "metadata": {
        "id": "x7RgbRRiM1nB"
      },
      "source": [
        "##Partitioning"
      ]
    },
    {
      "cell_type": "code",
      "metadata": {
        "id": "3FekP_SHM30g"
      },
      "source": [
        ""
      ],
      "execution_count": null,
      "outputs": []
    }
  ]
}